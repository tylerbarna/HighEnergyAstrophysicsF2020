{
 "cells": [
  {
   "cell_type": "markdown",
   "metadata": {},
   "source": [
    "### Problem 4"
   ]
  },
  {
   "cell_type": "code",
   "execution_count": 18,
   "metadata": {},
   "outputs": [],
   "source": [
    "## Importing relevant libraries\n",
    "import astropy \n",
    "import mendeleev as ml\n",
    "import numpy as np\n",
    "import pandas as pd\n",
    "\n",
    "from astropy import constants as const\n",
    "from astropy import units as u\n",
    "from mendeleev import element\n",
    "from scipy import optimize"
   ]
  },
  {
   "cell_type": "markdown",
   "metadata": {},
   "source": [
    "#### Bethe-Bloch Formula\n",
    "\n",
    "$\n",
    "\\begin{equation}\n",
    "-\\frac{dE}{dx} = \\frac{4 \\pi z^{2} e^{4} n_{e}}{m_{e}v^{2}} \n",
    "\\left[ \\ln(\\frac{2 \\gamma^{2} m_{e} v^{2}}{\\bar{I}}) - \\frac{v^{2}}{c^{2}}\n",
    "\\right]\n",
    "\\end{equation}\n",
    "$\n",
    "\n",
    "#### In Terms of Stopping Power, $\\xi$\n",
    "\n",
    "$\\xi = \\rho x$\n",
    "\n",
    "$\n",
    "\\begin{equation}\n",
    "-\\frac{dE}{d\\xi} = \\frac{4 \\pi z^{2} e^{4} \\left( \\frac{Z_{T}}{A_{T}} \\right)}{M_{u} m_{e}v^{2}} \n",
    "\\left[ \\ln(\\frac{2 \\gamma^{2} m_{e} v^{2}}{\\bar{I}}) - \\frac{v^{2}}{c^{2}}\n",
    "\\right]\n",
    "\\end{equation}\n",
    "$\n",
    "\n",
    "#### Lorentz Factor, $\\gamma$\n",
    "\n",
    "$\\begin{equation}\n",
    "\\gamma = \\frac{1}{\\sqrt{1 - \\frac{v^2}{c^2}}}\n",
    "\\end{equation}$\n",
    "\n",
    "$\\begin{equation}\n",
    "\\frac{v^2}{c^2} = \\frac{\\gamma^2 - 1}{\\gamma^2}\n",
    "\\end{equation}$\n",
    "\n",
    "Applying this to the Bethe-Bloch Formula (in terms of $\\xi$),\n",
    "\n",
    "$\\begin{equation}\n",
    "-\\frac{dE}{d\\xi} = \\frac{4 \\pi z^{2} e^{4} \\gamma^2 \\left( \\frac{Z_{T}}{A_{T}} \\right)}{M_{u} m_{e} c^2 (\\gamma^2 -1)} \n",
    "\\left[ \\ln(\\frac{2 m_{e} c^2 (\\gamma^2 -1)}{\\bar{I}}) - \\frac{\\gamma^2 -1}{\\gamma^{2}}\n",
    "\\right]\n",
    "\\end{equation}$"
   ]
  },
  {
   "cell_type": "code",
   "execution_count": 119,
   "metadata": {},
   "outputs": [],
   "source": [
    "def betheBloch(gamma, z, elem, Ibar):\n",
    "    e = const.e.gauss.to('cm^(3/2)*g^(1/2)/s')\n",
    "    Mu = const.u.cgs\n",
    "    Me = const.m_e.cgs \n",
    "    c = const.c.cgs\n",
    "    Zt = element(elem).atomic_number\n",
    "    At = element(elem).atomic_weight\n",
    "    EnLoss = (\n",
    "    ( 4 * np.pi * z**2 * e**4 * gamma**2 * (Zt/At)\n",
    "    )/(\n",
    "    Mu * (Me * c**2).to('MeV') * (gamma**2 - 1)\n",
    "    )\n",
    "    )*(\n",
    "    np.log((2 * (Me * c**2).to('MeV') * (gamma**2 -1))/(Ibar*u.eV).to('MeV')\n",
    "    ) - (gamma**2 - 1)/(gamma**2)\n",
    "    )\n",
    "    return EnLoss"
   ]
  },
  {
   "cell_type": "code",
   "execution_count": 132,
   "metadata": {},
   "outputs": [],
   "source": [
    "def minBB( z, elem, Ibar):\n",
    "        optVal = optimize.fminbound(betheBloch, 1,1e12, args=(z,elem,Ibar),full_output=1)\n",
    "        return optVal"
   ]
  },
  {
   "cell_type": "markdown",
   "metadata": {},
   "source": [
    "Note: Energy values for proton and neutron were sourced from https://newton.ex.ac.uk/research/qsystems/collabs/constants.html"
   ]
  },
  {
   "cell_type": "code",
   "execution_count": 127,
   "metadata": {},
   "outputs": [],
   "source": [
    "q_p = 938.27231 ## Proton charge, MeV\n",
    "q_n = 939.56563 ## Neutron charge, MeV\n",
    "q_d = q_p+q_n ## deuteron charge, MeV\n",
    "q_3He = 2*q_p + q_n ## 3He charge, MeV"
   ]
  },
  {
   "cell_type": "markdown",
   "metadata": {},
   "source": [
    "##### Part a"
   ]
  },
  {
   "cell_type": "code",
   "execution_count": 133,
   "metadata": {},
   "outputs": [
    {
     "data": {
      "text/plain": [
       "(3.7114244827816774, <Quantity 9.53683988e-06 cm6 g / (MeV s4)>, 0, 66)"
      ]
     },
     "execution_count": 133,
     "metadata": {},
     "output_type": "execute_result"
    }
   ],
   "source": [
    "minBB(q_p,'H',13.6)"
   ]
  },
  {
   "cell_type": "markdown",
   "metadata": {},
   "source": [
    "##### Part b"
   ]
  },
  {
   "cell_type": "code",
   "execution_count": 123,
   "metadata": {},
   "outputs": [
    {
     "data": {
      "text/plain": [
       "(3.3173041720648166, <Quantity 3.84126336e-06 cm6 g / (MeV s4)>, 0, 66)"
      ]
     },
     "execution_count": 123,
     "metadata": {},
     "output_type": "execute_result"
    }
   ],
   "source": [
    "minBB(q_p,'Si',170)"
   ]
  },
  {
   "cell_type": "markdown",
   "metadata": {},
   "source": [
    "##### Part c"
   ]
  },
  {
   "cell_type": "code",
   "execution_count": 125,
   "metadata": {},
   "outputs": [
    {
     "data": {
      "text/plain": [
       "(3.2263077678391388, <Quantity 3.39731203e-06 cm6 g / (MeV s4)>, 0, 66)"
      ]
     },
     "execution_count": 125,
     "metadata": {},
     "output_type": "execute_result"
    }
   ],
   "source": [
    "minBB(q_p,'Fe',290)"
   ]
  },
  {
   "cell_type": "markdown",
   "metadata": {},
   "source": [
    "##### Part d"
   ]
  },
  {
   "cell_type": "code",
   "execution_count": 128,
   "metadata": {},
   "outputs": [
    {
     "data": {
      "text/plain": [
       "(3.31730417204312, <Quantity 1.538624e-05 cm6 g / (MeV s4)>, 0, 66)"
      ]
     },
     "execution_count": 128,
     "metadata": {},
     "output_type": "execute_result"
    }
   ],
   "source": [
    "minBB(q_d,'Si',170)"
   ]
  },
  {
   "cell_type": "markdown",
   "metadata": {},
   "source": [
    "##### Part e"
   ]
  },
  {
   "cell_type": "code",
   "execution_count": 129,
   "metadata": {},
   "outputs": [
    {
     "data": {
      "text/plain": [
       "(3.3173041721894614, <Quantity 3.46031464e-05 cm6 g / (MeV s4)>, 0, 66)"
      ]
     },
     "execution_count": 129,
     "metadata": {},
     "output_type": "execute_result"
    }
   ],
   "source": [
    "minBB(q_3He, 'Si', 170)"
   ]
  },
  {
   "cell_type": "code",
   "execution_count": null,
   "metadata": {},
   "outputs": [],
   "source": []
  }
 ],
 "metadata": {
  "kernelspec": {
   "display_name": "Python 3",
   "language": "python",
   "name": "python3"
  },
  "language_info": {
   "codemirror_mode": {
    "name": "ipython",
    "version": 3
   },
   "file_extension": ".py",
   "mimetype": "text/x-python",
   "name": "python",
   "nbconvert_exporter": "python",
   "pygments_lexer": "ipython3",
   "version": "3.7.6"
  }
 },
 "nbformat": 4,
 "nbformat_minor": 4
}
