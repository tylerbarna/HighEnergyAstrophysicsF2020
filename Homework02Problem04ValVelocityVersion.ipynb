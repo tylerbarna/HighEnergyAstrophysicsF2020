{
 "cells": [
  {
   "cell_type": "markdown",
   "metadata": {},
   "source": [
    "### Problem 4"
   ]
  },
  {
   "cell_type": "code",
   "execution_count": 1,
   "metadata": {},
   "outputs": [],
   "source": [
    "## Importing relevant libraries\n",
    "import astropy \n",
    "import mendeleev as ml\n",
    "import numpy as np\n",
    "import pandas as pd\n",
    "\n",
    "from astropy import constants as const\n",
    "from astropy import units as u\n",
    "from mendeleev import element\n",
    "from scipy import optimize"
   ]
  },
  {
   "cell_type": "markdown",
   "metadata": {},
   "source": [
    "#### Bethe-Bloch Formula\n",
    "\n",
    "$\n",
    "\\begin{equation}\n",
    "-\\frac{dE}{dx} = \\frac{4 \\pi z^{2} e^{4} n_{e}}{m_{e}v^{2}} \n",
    "\\left[ \\ln(\\frac{2 \\gamma^{2} m_{e} v^{2}}{\\bar{I}}) - \\frac{v^{2}}{c^{2}}\n",
    "\\right]\n",
    "\\end{equation}\n",
    "$\n",
    "\n",
    "#### In Terms of Stopping Power, $\\xi$\n",
    "\n",
    "$\\xi = \\rho x$\n",
    "\n",
    "$\n",
    "\\begin{equation}\n",
    "-\\frac{dE}{d\\xi} = \\frac{4 \\pi z^{2} e^{4} \\left( \\frac{Z_{T}}{A_{T}} \\right)}{M_{u} m_{e}v^{2}} \n",
    "\\left[ \\ln(\\frac{2 \\gamma^{2} m_{e} v^{2}}{\\bar{I}}) - \\frac{v^{2}}{c^{2}}\n",
    "\\right]\n",
    "\\end{equation}\n",
    "$\n",
    "\n",
    "#### Lorentz Factor, $\\gamma$\n",
    "\n",
    "$\\begin{equation}\n",
    "\\gamma = \\frac{1}{\\sqrt{1 - \\frac{v^2}{c^2}}}\n",
    "\\end{equation}$\n",
    "\n",
    "$\\begin{equation}\n",
    "\\frac{v^2}{c^2} = \\frac{\\gamma^2 - 1}{\\gamma^2}\n",
    "\\end{equation}$\n",
    "\n",
    "Applying this to the Bethe-Bloch Formula (in terms of $\\xi$),\n",
    "\n",
    "$\\begin{equation}\n",
    "-\\frac{dE}{d\\xi} = \\frac{4 \\pi z^{2} e^{4} \\gamma^2 \\left( \\frac{Z_{T}}{A_{T}} \\right)}{M_{u} m_{e} c^2 (\\gamma^2 -1)} \n",
    "\\left[ \\ln(\\frac{2 m_{e} c^2 (\\gamma^2 -1)}{\\bar{I}}) - \\frac{\\gamma^2 -1}{\\gamma^{2}}\n",
    "\\right]\n",
    "\\end{equation}$"
   ]
  },
  {
   "cell_type": "code",
   "execution_count": 26,
   "metadata": {},
   "outputs": [],
   "source": [
    "def lorentz(v):\n",
    "    #v = vel * u.cm/u.s\n",
    "    c = const.c.cgs.value\n",
    "    return 1/np.sqrt(1-v**2 / c**2)"
   ]
  },
  {
   "cell_type": "code",
   "execution_count": 27,
   "metadata": {},
   "outputs": [],
   "source": [
    "def betheBloch(vel, z, elem, Ibar):\n",
    "    v = vel * u.cm / u.s\n",
    "    e = const.e.gauss.to('cm^(3/2)*g^(1/2)/s')\n",
    "    Mu = const.u.cgs\n",
    "    Me = const.m_e.cgs \n",
    "    c = const.c.cgs\n",
    "    Zt = element(elem).atomic_number\n",
    "    At = element(elem).atomic_weight\n",
    "    EnLoss = (\n",
    "    ( 4 * np.pi * z**2 * e**4 * (Zt/At)\n",
    "    )/(\n",
    "    (Mu * Me * v**2)\n",
    "    )\n",
    "    )*(\n",
    "    np.log((2 * lorentz(vel)**2 * Me * v**2)/(Ibar*u.eV).to('MeV')\n",
    "    ) - v**2/c**2\n",
    "    )\n",
    "    return EnLoss"
   ]
  },
  {
   "cell_type": "code",
   "execution_count": 28,
   "metadata": {},
   "outputs": [],
   "source": [
    "def minBB( z, elem, Ibar):\n",
    "        optVal = optimize.fminbound(betheBloch, 0, 2.998e10, args=(z,elem,Ibar),full_output=1)\n",
    "        return optVal"
   ]
  },
  {
   "cell_type": "code",
   "execution_count": 29,
   "metadata": {},
   "outputs": [],
   "source": [
    "q_p = 1 ## Proton charge\n",
    "q_n = 0 ## Neutron charge\n",
    "q_d = q_p+q_n ## Deuteron charge\n",
    "q_3He = 2*q_p + q_n ## 3He charge"
   ]
  },
  {
   "cell_type": "markdown",
   "metadata": {},
   "source": [
    "##### Part a"
   ]
  },
  {
   "cell_type": "code",
   "execution_count": 33,
   "metadata": {},
   "outputs": [
    {
     "data": {
      "text/plain": [
       "0.9630176256739722"
      ]
     },
     "metadata": {},
     "output_type": "display_data"
    },
    {
     "data": {
      "text/plain": [
       "'3.71E+00'"
      ]
     },
     "metadata": {},
     "output_type": "display_data"
    },
    {
     "data": {
      "text/latex": [
       "$4.2201307 \\; \\mathrm{\\frac{cm^{2}\\,MeV}{g}}$"
      ],
      "text/plain": [
       "<Quantity 4.22013072 cm2 MeV / g>"
      ]
     },
     "metadata": {},
     "output_type": "display_data"
    }
   ],
   "source": [
    "partA = minBB(q_p,'H',13.6)\n",
    "display(partA[0]/const.c.cgs.value)\n",
    "display( lorentz(partA[0]))\n",
    "display(partA[1].to('MeV cm^2/g'))"
   ]
  },
  {
   "cell_type": "markdown",
   "metadata": {},
   "source": [
    "##### Part b"
   ]
  },
  {
   "cell_type": "code",
   "execution_count": 35,
   "metadata": {},
   "outputs": [
    {
     "data": {
      "text/plain": [
       "0.9534821183675949"
      ]
     },
     "metadata": {},
     "output_type": "display_data"
    },
    {
     "data": {
      "text/plain": [
       "3.3173043276677223"
      ]
     },
     "metadata": {},
     "output_type": "display_data"
    },
    {
     "data": {
      "text/latex": [
       "$1.6997909 \\; \\mathrm{\\frac{cm^{2}\\,MeV}{g}}$"
      ],
      "text/plain": [
       "<Quantity 1.69979089 cm2 MeV / g>"
      ]
     },
     "metadata": {},
     "output_type": "display_data"
    }
   ],
   "source": [
    "partB = minBB(q_p,'Si',170)\n",
    "display(partB[0]/const.c.cgs.value)\n",
    "display( lorentz(partB[0]))\n",
    "display(partB[1].to('MeV cm^2/g'))"
   ]
  },
  {
   "cell_type": "markdown",
   "metadata": {},
   "source": [
    "##### Part c"
   ]
  },
  {
   "cell_type": "code",
   "execution_count": 36,
   "metadata": {},
   "outputs": [
    {
     "data": {
      "text/plain": [
       "0.9507522669180042"
      ]
     },
     "metadata": {},
     "output_type": "display_data"
    },
    {
     "data": {
      "text/plain": [
       "3.2263079456235397"
      ]
     },
     "metadata": {},
     "output_type": "display_data"
    },
    {
     "data": {
      "text/latex": [
       "$1.5033387 \\; \\mathrm{\\frac{cm^{2}\\,MeV}{g}}$"
      ],
      "text/plain": [
       "<Quantity 1.50333874 cm2 MeV / g>"
      ]
     },
     "metadata": {},
     "output_type": "display_data"
    }
   ],
   "source": [
    "partC = minBB(q_p,'Fe',290)\n",
    "display(partC[0]/const.c.cgs.value)\n",
    "display( lorentz(partC[0]))\n",
    "display(partC[1].to('MeV cm^2/g'))"
   ]
  },
  {
   "cell_type": "markdown",
   "metadata": {},
   "source": [
    "##### Part d"
   ]
  },
  {
   "cell_type": "code",
   "execution_count": 37,
   "metadata": {},
   "outputs": [
    {
     "data": {
      "text/plain": [
       "0.9534821183675949"
      ]
     },
     "metadata": {},
     "output_type": "display_data"
    },
    {
     "data": {
      "text/plain": [
       "3.3173043276677223"
      ]
     },
     "metadata": {},
     "output_type": "display_data"
    },
    {
     "data": {
      "text/latex": [
       "$1.6997909 \\; \\mathrm{\\frac{cm^{2}\\,MeV}{g}}$"
      ],
      "text/plain": [
       "<Quantity 1.69979089 cm2 MeV / g>"
      ]
     },
     "metadata": {},
     "output_type": "display_data"
    }
   ],
   "source": [
    "partD = minBB(q_d,'Si',170)\n",
    "display(partD[0]/const.c.cgs.value)\n",
    "display( lorentz(partD[0]))\n",
    "display(partD[1].to('MeV cm^2/g'))"
   ]
  },
  {
   "cell_type": "markdown",
   "metadata": {},
   "source": [
    "##### Part e"
   ]
  },
  {
   "cell_type": "code",
   "execution_count": 34,
   "metadata": {},
   "outputs": [
    {
     "data": {
      "text/plain": [
       "0.9534821183675949"
      ]
     },
     "metadata": {},
     "output_type": "display_data"
    },
    {
     "data": {
      "text/plain": [
       "3.3173043276677223"
      ]
     },
     "metadata": {},
     "output_type": "display_data"
    },
    {
     "data": {
      "text/latex": [
       "$6.7991635 \\; \\mathrm{\\frac{cm^{2}\\,MeV}{g}}$"
      ],
      "text/plain": [
       "<Quantity 6.79916355 cm2 MeV / g>"
      ]
     },
     "metadata": {},
     "output_type": "display_data"
    }
   ],
   "source": [
    "partE = minBB(q_3He, 'Si', 170)\n",
    "display(partE[0]/const.c.cgs.value)\n",
    "display( lorentz(partE[0]))\n",
    "display(partE[1].to('MeV cm^2/g'))"
   ]
  },
  {
   "cell_type": "code",
   "execution_count": null,
   "metadata": {},
   "outputs": [],
   "source": []
  }
 ],
 "metadata": {
  "kernelspec": {
   "display_name": "Python 3",
   "language": "python",
   "name": "python3"
  },
  "language_info": {
   "codemirror_mode": {
    "name": "ipython",
    "version": 3
   },
   "file_extension": ".py",
   "mimetype": "text/x-python",
   "name": "python",
   "nbconvert_exporter": "python",
   "pygments_lexer": "ipython3",
   "version": "3.7.6"
  }
 },
 "nbformat": 4,
 "nbformat_minor": 4
}
